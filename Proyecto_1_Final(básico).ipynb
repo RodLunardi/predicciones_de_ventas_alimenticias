{
  "nbformat": 4,
  "nbformat_minor": 0,
  "metadata": {
    "colab": {
      "provenance": [],
      "authorship_tag": "ABX9TyMDuBsGF0q+48lbZU2cjOBh",
      "include_colab_link": true
    },
    "kernelspec": {
      "name": "python3",
      "display_name": "Python 3"
    },
    "language_info": {
      "name": "python"
    }
  },
  "cells": [
    {
      "cell_type": "markdown",
      "metadata": {
        "id": "view-in-github",
        "colab_type": "text"
      },
      "source": [
        "<a href=\"https://colab.research.google.com/github/RodLunardi/predicciones_de_ventas_alimenticias/blob/main/Proyecto_1_Final(b%C3%A1sico).ipynb\" target=\"_parent\"><img src=\"https://colab.research.google.com/assets/colab-badge.svg\" alt=\"Open In Colab\"/></a>"
      ]
    },
    {
      "cell_type": "code",
      "source": [
        "from google.colab import drive\n",
        "drive.mount('/content/drive')"
      ],
      "metadata": {
        "colab": {
          "base_uri": "https://localhost:8080/"
        },
        "id": "CFtMwtCq3eyM",
        "outputId": "8a50d17f-286c-426a-cf6c-f4885ee5f0c0"
      },
      "execution_count": null,
      "outputs": [
        {
          "output_type": "stream",
          "name": "stdout",
          "text": [
            "Mounted at /content/drive\n"
          ]
        }
      ]
    },
    {
      "cell_type": "code",
      "execution_count": null,
      "metadata": {
        "id": "w5fLUR0e28-L"
      },
      "outputs": [],
      "source": [
        "import matplotlib.pyplot as plt\n",
        "import seaborn as sns\n",
        "import pandas as pd\n",
        "import numpy as np\n",
        "from sklearn.pipeline import make_pipeline\n",
        "from sklearn.model_selection import train_test_split\n",
        "from sklearn.preprocessing import StandardScaler\n",
        "from sklearn.compose import make_column_selector\n",
        "from sklearn.preprocessing import OneHotEncoder\n",
        "from sklearn.impute import SimpleImputer\n",
        "from sklearn.compose import make_column_transformer\n",
        "from sklearn import set_config\n",
        "set_config(display='diagram')\n",
        "from sklearn.linear_model import LinearRegression\n",
        "from sklearn.metrics import r2_score\n",
        "from sklearn.metrics import mean_absolute_error\n",
        "from sklearn.metrics import mean_squared_error\n",
        "from sklearn.tree import DecisionTreeRegressor\n",
        "from sklearn.ensemble import BaggingRegressor\n",
        "from sklearn.ensemble import RandomForestRegressor"
      ]
    },
    {
      "cell_type": "code",
      "source": [
        "filename = \"/content/sales_predictions(11).csv\"\n",
        "df = pd.read_csv(filename)\n",
        "df.head()"
      ],
      "metadata": {
        "colab": {
          "base_uri": "https://localhost:8080/",
          "height": 357
        },
        "id": "MMy6vVVY3hy0",
        "outputId": "cafffc12-a464-4b99-8d28-aa4852e48d4a"
      },
      "execution_count": null,
      "outputs": [
        {
          "output_type": "execute_result",
          "data": {
            "text/plain": [
              "  Item_Identifier  Item_Weight Item_Fat_Content  Item_Visibility  \\\n",
              "0           FDA15         9.30          Low Fat         0.016047   \n",
              "1           DRC01         5.92          Regular         0.019278   \n",
              "2           FDN15        17.50          Low Fat         0.016760   \n",
              "3           FDX07        19.20          Regular         0.000000   \n",
              "4           NCD19         8.93          Low Fat         0.000000   \n",
              "\n",
              "               Item_Type  Item_MRP Outlet_Identifier  \\\n",
              "0                  Dairy  249.8092            OUT049   \n",
              "1            Soft Drinks   48.2692            OUT018   \n",
              "2                   Meat  141.6180            OUT049   \n",
              "3  Fruits and Vegetables  182.0950            OUT010   \n",
              "4              Household   53.8614            OUT013   \n",
              "\n",
              "   Outlet_Establishment_Year Outlet_Size Outlet_Location_Type  \\\n",
              "0                       1999      Medium               Tier 1   \n",
              "1                       2009      Medium               Tier 3   \n",
              "2                       1999      Medium               Tier 1   \n",
              "3                       1998         NaN               Tier 3   \n",
              "4                       1987        High               Tier 3   \n",
              "\n",
              "         Outlet_Type  Item_Outlet_Sales  \n",
              "0  Supermarket Type1          3735.1380  \n",
              "1  Supermarket Type2           443.4228  \n",
              "2  Supermarket Type1          2097.2700  \n",
              "3      Grocery Store           732.3800  \n",
              "4  Supermarket Type1           994.7052  "
            ],
            "text/html": [
              "\n",
              "  <div id=\"df-ad8a116d-062f-4208-969f-b65463133213\">\n",
              "    <div class=\"colab-df-container\">\n",
              "      <div>\n",
              "<style scoped>\n",
              "    .dataframe tbody tr th:only-of-type {\n",
              "        vertical-align: middle;\n",
              "    }\n",
              "\n",
              "    .dataframe tbody tr th {\n",
              "        vertical-align: top;\n",
              "    }\n",
              "\n",
              "    .dataframe thead th {\n",
              "        text-align: right;\n",
              "    }\n",
              "</style>\n",
              "<table border=\"1\" class=\"dataframe\">\n",
              "  <thead>\n",
              "    <tr style=\"text-align: right;\">\n",
              "      <th></th>\n",
              "      <th>Item_Identifier</th>\n",
              "      <th>Item_Weight</th>\n",
              "      <th>Item_Fat_Content</th>\n",
              "      <th>Item_Visibility</th>\n",
              "      <th>Item_Type</th>\n",
              "      <th>Item_MRP</th>\n",
              "      <th>Outlet_Identifier</th>\n",
              "      <th>Outlet_Establishment_Year</th>\n",
              "      <th>Outlet_Size</th>\n",
              "      <th>Outlet_Location_Type</th>\n",
              "      <th>Outlet_Type</th>\n",
              "      <th>Item_Outlet_Sales</th>\n",
              "    </tr>\n",
              "  </thead>\n",
              "  <tbody>\n",
              "    <tr>\n",
              "      <th>0</th>\n",
              "      <td>FDA15</td>\n",
              "      <td>9.30</td>\n",
              "      <td>Low Fat</td>\n",
              "      <td>0.016047</td>\n",
              "      <td>Dairy</td>\n",
              "      <td>249.8092</td>\n",
              "      <td>OUT049</td>\n",
              "      <td>1999</td>\n",
              "      <td>Medium</td>\n",
              "      <td>Tier 1</td>\n",
              "      <td>Supermarket Type1</td>\n",
              "      <td>3735.1380</td>\n",
              "    </tr>\n",
              "    <tr>\n",
              "      <th>1</th>\n",
              "      <td>DRC01</td>\n",
              "      <td>5.92</td>\n",
              "      <td>Regular</td>\n",
              "      <td>0.019278</td>\n",
              "      <td>Soft Drinks</td>\n",
              "      <td>48.2692</td>\n",
              "      <td>OUT018</td>\n",
              "      <td>2009</td>\n",
              "      <td>Medium</td>\n",
              "      <td>Tier 3</td>\n",
              "      <td>Supermarket Type2</td>\n",
              "      <td>443.4228</td>\n",
              "    </tr>\n",
              "    <tr>\n",
              "      <th>2</th>\n",
              "      <td>FDN15</td>\n",
              "      <td>17.50</td>\n",
              "      <td>Low Fat</td>\n",
              "      <td>0.016760</td>\n",
              "      <td>Meat</td>\n",
              "      <td>141.6180</td>\n",
              "      <td>OUT049</td>\n",
              "      <td>1999</td>\n",
              "      <td>Medium</td>\n",
              "      <td>Tier 1</td>\n",
              "      <td>Supermarket Type1</td>\n",
              "      <td>2097.2700</td>\n",
              "    </tr>\n",
              "    <tr>\n",
              "      <th>3</th>\n",
              "      <td>FDX07</td>\n",
              "      <td>19.20</td>\n",
              "      <td>Regular</td>\n",
              "      <td>0.000000</td>\n",
              "      <td>Fruits and Vegetables</td>\n",
              "      <td>182.0950</td>\n",
              "      <td>OUT010</td>\n",
              "      <td>1998</td>\n",
              "      <td>NaN</td>\n",
              "      <td>Tier 3</td>\n",
              "      <td>Grocery Store</td>\n",
              "      <td>732.3800</td>\n",
              "    </tr>\n",
              "    <tr>\n",
              "      <th>4</th>\n",
              "      <td>NCD19</td>\n",
              "      <td>8.93</td>\n",
              "      <td>Low Fat</td>\n",
              "      <td>0.000000</td>\n",
              "      <td>Household</td>\n",
              "      <td>53.8614</td>\n",
              "      <td>OUT013</td>\n",
              "      <td>1987</td>\n",
              "      <td>High</td>\n",
              "      <td>Tier 3</td>\n",
              "      <td>Supermarket Type1</td>\n",
              "      <td>994.7052</td>\n",
              "    </tr>\n",
              "  </tbody>\n",
              "</table>\n",
              "</div>\n",
              "      <button class=\"colab-df-convert\" onclick=\"convertToInteractive('df-ad8a116d-062f-4208-969f-b65463133213')\"\n",
              "              title=\"Convert this dataframe to an interactive table.\"\n",
              "              style=\"display:none;\">\n",
              "        \n",
              "  <svg xmlns=\"http://www.w3.org/2000/svg\" height=\"24px\"viewBox=\"0 0 24 24\"\n",
              "       width=\"24px\">\n",
              "    <path d=\"M0 0h24v24H0V0z\" fill=\"none\"/>\n",
              "    <path d=\"M18.56 5.44l.94 2.06.94-2.06 2.06-.94-2.06-.94-.94-2.06-.94 2.06-2.06.94zm-11 1L8.5 8.5l.94-2.06 2.06-.94-2.06-.94L8.5 2.5l-.94 2.06-2.06.94zm10 10l.94 2.06.94-2.06 2.06-.94-2.06-.94-.94-2.06-.94 2.06-2.06.94z\"/><path d=\"M17.41 7.96l-1.37-1.37c-.4-.4-.92-.59-1.43-.59-.52 0-1.04.2-1.43.59L10.3 9.45l-7.72 7.72c-.78.78-.78 2.05 0 2.83L4 21.41c.39.39.9.59 1.41.59.51 0 1.02-.2 1.41-.59l7.78-7.78 2.81-2.81c.8-.78.8-2.07 0-2.86zM5.41 20L4 18.59l7.72-7.72 1.47 1.35L5.41 20z\"/>\n",
              "  </svg>\n",
              "      </button>\n",
              "      \n",
              "  <style>\n",
              "    .colab-df-container {\n",
              "      display:flex;\n",
              "      flex-wrap:wrap;\n",
              "      gap: 12px;\n",
              "    }\n",
              "\n",
              "    .colab-df-convert {\n",
              "      background-color: #E8F0FE;\n",
              "      border: none;\n",
              "      border-radius: 50%;\n",
              "      cursor: pointer;\n",
              "      display: none;\n",
              "      fill: #1967D2;\n",
              "      height: 32px;\n",
              "      padding: 0 0 0 0;\n",
              "      width: 32px;\n",
              "    }\n",
              "\n",
              "    .colab-df-convert:hover {\n",
              "      background-color: #E2EBFA;\n",
              "      box-shadow: 0px 1px 2px rgba(60, 64, 67, 0.3), 0px 1px 3px 1px rgba(60, 64, 67, 0.15);\n",
              "      fill: #174EA6;\n",
              "    }\n",
              "\n",
              "    [theme=dark] .colab-df-convert {\n",
              "      background-color: #3B4455;\n",
              "      fill: #D2E3FC;\n",
              "    }\n",
              "\n",
              "    [theme=dark] .colab-df-convert:hover {\n",
              "      background-color: #434B5C;\n",
              "      box-shadow: 0px 1px 3px 1px rgba(0, 0, 0, 0.15);\n",
              "      filter: drop-shadow(0px 1px 2px rgba(0, 0, 0, 0.3));\n",
              "      fill: #FFFFFF;\n",
              "    }\n",
              "  </style>\n",
              "\n",
              "      <script>\n",
              "        const buttonEl =\n",
              "          document.querySelector('#df-ad8a116d-062f-4208-969f-b65463133213 button.colab-df-convert');\n",
              "        buttonEl.style.display =\n",
              "          google.colab.kernel.accessAllowed ? 'block' : 'none';\n",
              "\n",
              "        async function convertToInteractive(key) {\n",
              "          const element = document.querySelector('#df-ad8a116d-062f-4208-969f-b65463133213');\n",
              "          const dataTable =\n",
              "            await google.colab.kernel.invokeFunction('convertToInteractive',\n",
              "                                                     [key], {});\n",
              "          if (!dataTable) return;\n",
              "\n",
              "          const docLinkHtml = 'Like what you see? Visit the ' +\n",
              "            '<a target=\"_blank\" href=https://colab.research.google.com/notebooks/data_table.ipynb>data table notebook</a>'\n",
              "            + ' to learn more about interactive tables.';\n",
              "          element.innerHTML = '';\n",
              "          dataTable['output_type'] = 'display_data';\n",
              "          await google.colab.output.renderOutput(dataTable, element);\n",
              "          const docLink = document.createElement('div');\n",
              "          docLink.innerHTML = docLinkHtml;\n",
              "          element.appendChild(docLink);\n",
              "        }\n",
              "      </script>\n",
              "    </div>\n",
              "  </div>\n",
              "  "
            ]
          },
          "metadata": {},
          "execution_count": 3
        }
      ]
    },
    {
      "cell_type": "markdown",
      "source": [
        "Pré-procesamineto de la Data"
      ],
      "metadata": {
        "id": "B5oLgZMYhDme"
      }
    },
    {
      "cell_type": "code",
      "source": [
        "#Filas Duplicadas\n",
        "df.duplicated().sum() "
      ],
      "metadata": {
        "colab": {
          "base_uri": "https://localhost:8080/"
        },
        "id": "0YvHgnt4TX34",
        "outputId": "ed0338b3-336a-44a9-b9eb-a48bed77472e"
      },
      "execution_count": null,
      "outputs": [
        {
          "output_type": "execute_result",
          "data": {
            "text/plain": [
              "0"
            ]
          },
          "metadata": {},
          "execution_count": 4
        }
      ]
    },
    {
      "cell_type": "code",
      "source": [
        "df_1 = df.copy()\n",
        "df_1\n",
        "df_1.head()"
      ],
      "metadata": {
        "colab": {
          "base_uri": "https://localhost:8080/",
          "height": 357
        },
        "id": "ksABzUwOpSDy",
        "outputId": "233eef91-0f29-4faa-ae13-c7fab708a952"
      },
      "execution_count": null,
      "outputs": [
        {
          "output_type": "execute_result",
          "data": {
            "text/plain": [
              "  Item_Identifier  Item_Weight Item_Fat_Content  Item_Visibility  \\\n",
              "0           FDA15         9.30          Low Fat         0.016047   \n",
              "1           DRC01         5.92          Regular         0.019278   \n",
              "2           FDN15        17.50          Low Fat         0.016760   \n",
              "3           FDX07        19.20          Regular         0.000000   \n",
              "4           NCD19         8.93          Low Fat         0.000000   \n",
              "\n",
              "               Item_Type  Item_MRP Outlet_Identifier  \\\n",
              "0                  Dairy  249.8092            OUT049   \n",
              "1            Soft Drinks   48.2692            OUT018   \n",
              "2                   Meat  141.6180            OUT049   \n",
              "3  Fruits and Vegetables  182.0950            OUT010   \n",
              "4              Household   53.8614            OUT013   \n",
              "\n",
              "   Outlet_Establishment_Year Outlet_Size Outlet_Location_Type  \\\n",
              "0                       1999      Medium               Tier 1   \n",
              "1                       2009      Medium               Tier 3   \n",
              "2                       1999      Medium               Tier 1   \n",
              "3                       1998         NaN               Tier 3   \n",
              "4                       1987        High               Tier 3   \n",
              "\n",
              "         Outlet_Type  Item_Outlet_Sales  \n",
              "0  Supermarket Type1          3735.1380  \n",
              "1  Supermarket Type2           443.4228  \n",
              "2  Supermarket Type1          2097.2700  \n",
              "3      Grocery Store           732.3800  \n",
              "4  Supermarket Type1           994.7052  "
            ],
            "text/html": [
              "\n",
              "  <div id=\"df-cd51761c-50a6-4364-bdeb-58e25b0df58b\">\n",
              "    <div class=\"colab-df-container\">\n",
              "      <div>\n",
              "<style scoped>\n",
              "    .dataframe tbody tr th:only-of-type {\n",
              "        vertical-align: middle;\n",
              "    }\n",
              "\n",
              "    .dataframe tbody tr th {\n",
              "        vertical-align: top;\n",
              "    }\n",
              "\n",
              "    .dataframe thead th {\n",
              "        text-align: right;\n",
              "    }\n",
              "</style>\n",
              "<table border=\"1\" class=\"dataframe\">\n",
              "  <thead>\n",
              "    <tr style=\"text-align: right;\">\n",
              "      <th></th>\n",
              "      <th>Item_Identifier</th>\n",
              "      <th>Item_Weight</th>\n",
              "      <th>Item_Fat_Content</th>\n",
              "      <th>Item_Visibility</th>\n",
              "      <th>Item_Type</th>\n",
              "      <th>Item_MRP</th>\n",
              "      <th>Outlet_Identifier</th>\n",
              "      <th>Outlet_Establishment_Year</th>\n",
              "      <th>Outlet_Size</th>\n",
              "      <th>Outlet_Location_Type</th>\n",
              "      <th>Outlet_Type</th>\n",
              "      <th>Item_Outlet_Sales</th>\n",
              "    </tr>\n",
              "  </thead>\n",
              "  <tbody>\n",
              "    <tr>\n",
              "      <th>0</th>\n",
              "      <td>FDA15</td>\n",
              "      <td>9.30</td>\n",
              "      <td>Low Fat</td>\n",
              "      <td>0.016047</td>\n",
              "      <td>Dairy</td>\n",
              "      <td>249.8092</td>\n",
              "      <td>OUT049</td>\n",
              "      <td>1999</td>\n",
              "      <td>Medium</td>\n",
              "      <td>Tier 1</td>\n",
              "      <td>Supermarket Type1</td>\n",
              "      <td>3735.1380</td>\n",
              "    </tr>\n",
              "    <tr>\n",
              "      <th>1</th>\n",
              "      <td>DRC01</td>\n",
              "      <td>5.92</td>\n",
              "      <td>Regular</td>\n",
              "      <td>0.019278</td>\n",
              "      <td>Soft Drinks</td>\n",
              "      <td>48.2692</td>\n",
              "      <td>OUT018</td>\n",
              "      <td>2009</td>\n",
              "      <td>Medium</td>\n",
              "      <td>Tier 3</td>\n",
              "      <td>Supermarket Type2</td>\n",
              "      <td>443.4228</td>\n",
              "    </tr>\n",
              "    <tr>\n",
              "      <th>2</th>\n",
              "      <td>FDN15</td>\n",
              "      <td>17.50</td>\n",
              "      <td>Low Fat</td>\n",
              "      <td>0.016760</td>\n",
              "      <td>Meat</td>\n",
              "      <td>141.6180</td>\n",
              "      <td>OUT049</td>\n",
              "      <td>1999</td>\n",
              "      <td>Medium</td>\n",
              "      <td>Tier 1</td>\n",
              "      <td>Supermarket Type1</td>\n",
              "      <td>2097.2700</td>\n",
              "    </tr>\n",
              "    <tr>\n",
              "      <th>3</th>\n",
              "      <td>FDX07</td>\n",
              "      <td>19.20</td>\n",
              "      <td>Regular</td>\n",
              "      <td>0.000000</td>\n",
              "      <td>Fruits and Vegetables</td>\n",
              "      <td>182.0950</td>\n",
              "      <td>OUT010</td>\n",
              "      <td>1998</td>\n",
              "      <td>NaN</td>\n",
              "      <td>Tier 3</td>\n",
              "      <td>Grocery Store</td>\n",
              "      <td>732.3800</td>\n",
              "    </tr>\n",
              "    <tr>\n",
              "      <th>4</th>\n",
              "      <td>NCD19</td>\n",
              "      <td>8.93</td>\n",
              "      <td>Low Fat</td>\n",
              "      <td>0.000000</td>\n",
              "      <td>Household</td>\n",
              "      <td>53.8614</td>\n",
              "      <td>OUT013</td>\n",
              "      <td>1987</td>\n",
              "      <td>High</td>\n",
              "      <td>Tier 3</td>\n",
              "      <td>Supermarket Type1</td>\n",
              "      <td>994.7052</td>\n",
              "    </tr>\n",
              "  </tbody>\n",
              "</table>\n",
              "</div>\n",
              "      <button class=\"colab-df-convert\" onclick=\"convertToInteractive('df-cd51761c-50a6-4364-bdeb-58e25b0df58b')\"\n",
              "              title=\"Convert this dataframe to an interactive table.\"\n",
              "              style=\"display:none;\">\n",
              "        \n",
              "  <svg xmlns=\"http://www.w3.org/2000/svg\" height=\"24px\"viewBox=\"0 0 24 24\"\n",
              "       width=\"24px\">\n",
              "    <path d=\"M0 0h24v24H0V0z\" fill=\"none\"/>\n",
              "    <path d=\"M18.56 5.44l.94 2.06.94-2.06 2.06-.94-2.06-.94-.94-2.06-.94 2.06-2.06.94zm-11 1L8.5 8.5l.94-2.06 2.06-.94-2.06-.94L8.5 2.5l-.94 2.06-2.06.94zm10 10l.94 2.06.94-2.06 2.06-.94-2.06-.94-.94-2.06-.94 2.06-2.06.94z\"/><path d=\"M17.41 7.96l-1.37-1.37c-.4-.4-.92-.59-1.43-.59-.52 0-1.04.2-1.43.59L10.3 9.45l-7.72 7.72c-.78.78-.78 2.05 0 2.83L4 21.41c.39.39.9.59 1.41.59.51 0 1.02-.2 1.41-.59l7.78-7.78 2.81-2.81c.8-.78.8-2.07 0-2.86zM5.41 20L4 18.59l7.72-7.72 1.47 1.35L5.41 20z\"/>\n",
              "  </svg>\n",
              "      </button>\n",
              "      \n",
              "  <style>\n",
              "    .colab-df-container {\n",
              "      display:flex;\n",
              "      flex-wrap:wrap;\n",
              "      gap: 12px;\n",
              "    }\n",
              "\n",
              "    .colab-df-convert {\n",
              "      background-color: #E8F0FE;\n",
              "      border: none;\n",
              "      border-radius: 50%;\n",
              "      cursor: pointer;\n",
              "      display: none;\n",
              "      fill: #1967D2;\n",
              "      height: 32px;\n",
              "      padding: 0 0 0 0;\n",
              "      width: 32px;\n",
              "    }\n",
              "\n",
              "    .colab-df-convert:hover {\n",
              "      background-color: #E2EBFA;\n",
              "      box-shadow: 0px 1px 2px rgba(60, 64, 67, 0.3), 0px 1px 3px 1px rgba(60, 64, 67, 0.15);\n",
              "      fill: #174EA6;\n",
              "    }\n",
              "\n",
              "    [theme=dark] .colab-df-convert {\n",
              "      background-color: #3B4455;\n",
              "      fill: #D2E3FC;\n",
              "    }\n",
              "\n",
              "    [theme=dark] .colab-df-convert:hover {\n",
              "      background-color: #434B5C;\n",
              "      box-shadow: 0px 1px 3px 1px rgba(0, 0, 0, 0.15);\n",
              "      filter: drop-shadow(0px 1px 2px rgba(0, 0, 0, 0.3));\n",
              "      fill: #FFFFFF;\n",
              "    }\n",
              "  </style>\n",
              "\n",
              "      <script>\n",
              "        const buttonEl =\n",
              "          document.querySelector('#df-cd51761c-50a6-4364-bdeb-58e25b0df58b button.colab-df-convert');\n",
              "        buttonEl.style.display =\n",
              "          google.colab.kernel.accessAllowed ? 'block' : 'none';\n",
              "\n",
              "        async function convertToInteractive(key) {\n",
              "          const element = document.querySelector('#df-cd51761c-50a6-4364-bdeb-58e25b0df58b');\n",
              "          const dataTable =\n",
              "            await google.colab.kernel.invokeFunction('convertToInteractive',\n",
              "                                                     [key], {});\n",
              "          if (!dataTable) return;\n",
              "\n",
              "          const docLinkHtml = 'Like what you see? Visit the ' +\n",
              "            '<a target=\"_blank\" href=https://colab.research.google.com/notebooks/data_table.ipynb>data table notebook</a>'\n",
              "            + ' to learn more about interactive tables.';\n",
              "          element.innerHTML = '';\n",
              "          dataTable['output_type'] = 'display_data';\n",
              "          await google.colab.output.renderOutput(dataTable, element);\n",
              "          const docLink = document.createElement('div');\n",
              "          docLink.innerHTML = docLinkHtml;\n",
              "          element.appendChild(docLink);\n",
              "        }\n",
              "      </script>\n",
              "    </div>\n",
              "  </div>\n",
              "  "
            ]
          },
          "metadata": {},
          "execution_count": 5
        }
      ]
    },
    {
      "cell_type": "markdown",
      "source": [
        "Para los valores faltantes de la columna 'Item_Weight' se aplicou la funcion fillna() combinada con la función groupby. ya que decidí rellenar los valores faltantes con el promedio del peso por el identificador. Para los valores faltantes de la columna 'Outlet_Size'. Considerando que la columna es categorica, para rellenar los valores faltantes se aplicou la funcion fillna() dentro de la función applay(lambda) combinada con la función groupby para rellenar con la moda() del tamaño del Outlet por el tipo de Outlet. Essa estrategia es para eliminar los valores nulos sin eliminar columnas o filas del dataframe. Las 4 filas que continuaron vacias despues de abordar los datos faltantes fueron eliminadas por reprentar una minima parte del dataframe"
      ],
      "metadata": {
        "id": "ssLbsDTrqO6W"
      }
    },
    {
      "cell_type": "code",
      "source": [
        "df_1['Item_Weight'].fillna(df_1.groupby(['Item_Identifier'])['Item_Weight'].transform('mean'), inplace=True)\n",
        "df_1['Outlet_Size'] = df_1.groupby('Outlet_Type')['Outlet_Size'].apply(lambda x: x.fillna(x.mode()[0]))\n",
        "df_1['Item_Fat_Content'] = df_1['Item_Fat_Content'].replace('LF', 'Low Fat')\n",
        "df_1['Item_Fat_Content'] = df_1['Item_Fat_Content'].replace('low fat', 'Low Fat')\n",
        "df_1['Item_Fat_Content'] = df_1['Item_Fat_Content'].replace('reg', 'Regular')\n",
        "df_1.dropna(subset=['Item_Weight'], inplace=True)"
      ],
      "metadata": {
        "id": "XBwxL7B9pIoU"
      },
      "execution_count": null,
      "outputs": []
    },
    {
      "cell_type": "code",
      "source": [
        "plt.style.use('classic')\n",
        "df_1['Outlet_Establishment_Year'].hist(bins = 30, edgecolor='black')\n",
        "plt.ticklabel_format(useOffset=False, style='plain')\n",
        "plt.xticks(rotation = 45, fontsize=15)\n",
        "plt.title('Distribution of Outlet_Establishment_Year')\n",
        "plt.xlabel('Outlet_Establishment_Year')\n",
        "plt.ylabel('Frequency')\n",
        "plt.xlim(left=1984,right=2010)\n",
        "plt.ylim(bottom=0,top=1500)\n",
        "plt.show()"
      ],
      "metadata": {
        "colab": {
          "base_uri": "https://localhost:8080/",
          "height": 500
        },
        "id": "UH9jtqpJq-r3",
        "outputId": "bb056dd1-c92d-4a10-9124-d1e81d1ccafa"
      },
      "execution_count": null,
      "outputs": [
        {
          "output_type": "display_data",
          "data": {
            "text/plain": [
              "<Figure size 640x480 with 1 Axes>"
            ],
            "image/png": "[encoded data removed]"
          },
          "metadata": {}
        }
      ]
    },
    {
      "cell_type": "code",
      "source": [
        "plt.style.use('tableau-colorblind10')\n",
        "sum_ventas = df_1.groupby('Item_Type')['Item_Outlet_Sales'].sum().round(2)\n",
        "fig, axes = plt.subplots(nrows = 1, ncols = 1, figsize = (18,8))\n",
        "plt.bar(sum_ventas.index, sum_ventas.values)\n",
        "for i, v in enumerate(sum_ventas.values):\n",
        "    plt.text(i, v + 2, str(v), ha='center') \n",
        "# Etiquetar los ejes x e y y darle un título al gráfico\n",
        "plt.xticks(rotation = 90)\n",
        "plt.xlabel('Item_Type', fontsize=15)\n",
        "plt.ylabel('Suma de Item_Outlet_Sales', fontsize=15)\n",
        "plt.title('Suma de Item_Outlet_Sales por Item_Type', fontsize=15)\n",
        "# Mostrar el gráfico\n",
        "plt.show()"
      ],
      "metadata": {
        "colab": {
          "base_uri": "https://localhost:8080/",
          "height": 737
        },
        "id": "G5I33DrNrMfy",
        "outputId": "9e97e558-e36e-4306-d880-a83f05005987"
      },
      "execution_count": null,
      "outputs": [
        {
          "output_type": "display_data",
          "data": {
            "text/plain": [
              "<Figure size 1440x640 with 1 Axes>"
            ],
            "image/png": "[encoded data removed]"
          },
          "metadata": {}
        }
      ]
    },
    {
      "cell_type": "code",
      "source": [
        "# Dividir los datos por valores de Item_Fat_Content\n",
        "low_fat_data = df_1[df_1['Item_Fat_Content'] == 'Low Fat']['Item_Outlet_Sales']\n",
        "regular_data = df_1[df_1['Item_Fat_Content'] == 'Regular']['Item_Outlet_Sales']\n",
        "# Crear la figura y los ejes\n",
        "fig, ax = plt.subplots(figsize=(8, 6))\n",
        "# Crear el boxplot\n",
        "# Configurar las propiedades del boxplot\n",
        "bp = ax.boxplot([low_fat_data, regular_data], notch=True, patch_artist=True, \n",
        "                boxprops=dict(facecolor='#66c2a5', color='gray', linewidth=1.5), \n",
        "                whiskerprops=dict(color='gray', linewidth=1.5, linestyle='--'), \n",
        "                capprops=dict(color='gray', linewidth=1.5), \n",
        "                medianprops=dict(color='black', linewidth=1.5),\n",
        "                flierprops=dict(marker='o', color='gray', alpha=0.5))\n",
        "# Configurar los ejes y el título\n",
        "ax.set_xticklabels(['Low Fat', 'Regular'])\n",
        "ax.set_ylabel('Item_Outlet_Sales')\n",
        "ax.set_title('Ventas de Outlet de Artículos divididos por Contenido de Grasa')\n",
        "# Mostrar el gráfico\n",
        "plt.show()"
      ],
      "metadata": {
        "colab": {
          "base_uri": "https://localhost:8080/",
          "height": 453
        },
        "id": "Mf3IH-wcrZY2",
        "outputId": "c08c982d-1c14-40d9-ed72-1a770ffe88d7"
      },
      "execution_count": null,
      "outputs": [
        {
          "output_type": "display_data",
          "data": {
            "text/plain": [
              "<Figure size 640x480 with 1 Axes>"
            ],
            "image/png": "[encoded data removed]"
          },
          "metadata": {}
        }
      ]
    },
    {
      "cell_type": "code",
      "source": [
        "mean_filter = df_1.groupby(['Outlet_Size'])['Item_Outlet_Sales'].mean().round(2)\n",
        "fig, ax = plt.subplots(figsize=(10, 6))\n",
        "plt.style.use('tableau-colorblind10')\n",
        "plt.bar(mean_filter.index, mean_filter.values, color='#FF8C00', edgecolor='k', linewidth=1.5, alpha=0.8)\n",
        "for i, v in enumerate(mean_filter.values):\n",
        "    plt.text(i, v + 1, str(v), ha='center') # codigo para colocar montos correspondiente a las barras\n",
        "ax.set_title('Mean Item_Outlet_Sales por Outlet_Size')\n",
        "ax.set_xlabel('Outlet_Size')\n",
        "ax.set_ylabel('Mean Item_Outlet_Sales')\n",
        "plt.show()"
      ],
      "metadata": {
        "colab": {
          "base_uri": "https://localhost:8080/",
          "height": 470
        },
        "id": "QHmlMYSCrhPi",
        "outputId": "c51b5b0a-eb7b-4744-f6d9-7b308f9a4563"
      },
      "execution_count": null,
      "outputs": [
        {
          "output_type": "display_data",
          "data": {
            "text/plain": [
              "<Figure size 800x480 with 1 Axes>"
            ],
            "image/png": "[encoded data removed]"
          },
          "metadata": {}
        }
      ]
    },
    {
      "cell_type": "code",
      "source": [
        "#inspect the data\n",
        "print(df.info(), '\\n')\n",
        "print(df.isna().sum())"
      ],
      "metadata": {
        "colab": {
          "base_uri": "https://localhost:8080/"
        },
        "id": "dn9WwhgiRjYU",
        "outputId": "aefda5e5-36f9-4ae6-bedf-d04219de71b0"
      },
      "execution_count": null,
      "outputs": [
        {
          "output_type": "stream",
          "name": "stdout",
          "text": [
            "<class 'pandas.core.frame.DataFrame'>\n",
            "RangeIndex: 8523 entries, 0 to 8522\n",
            "Data columns (total 12 columns):\n",
            " #   Column                     Non-Null Count  Dtype  \n",
            "---  ------                     --------------  -----  \n",
            " 0   Item_Identifier            8523 non-null   object \n",
            " 1   Item_Weight                7060 non-null   float64\n",
            " 2   Item_Fat_Content           8523 non-null   object \n",
            " 3   Item_Visibility            8523 non-null   float64\n",
            " 4   Item_Type                  8523 non-null   object \n",
            " 5   Item_MRP                   8523 non-null   float64\n",
            " 6   Outlet_Identifier          8523 non-null   object \n",
            " 7   Outlet_Establishment_Year  8523 non-null   int64  \n",
            " 8   Outlet_Size                6113 non-null   object \n",
            " 9   Outlet_Location_Type       8523 non-null   object \n",
            " 10  Outlet_Type                8523 non-null   object \n",
            " 11  Item_Outlet_Sales          8523 non-null   float64\n",
            "dtypes: float64(4), int64(1), object(7)\n",
            "memory usage: 799.2+ KB\n",
            "None \n",
            "\n",
            "Item_Identifier                 0\n",
            "Item_Weight                  1463\n",
            "Item_Fat_Content                0\n",
            "Item_Visibility                 0\n",
            "Item_Type                       0\n",
            "Item_MRP                        0\n",
            "Outlet_Identifier               0\n",
            "Outlet_Establishment_Year       0\n",
            "Outlet_Size                  2410\n",
            "Outlet_Location_Type            0\n",
            "Outlet_Type                     0\n",
            "Item_Outlet_Sales               0\n",
            "dtype: int64\n"
          ]
        }
      ]
    },
    {
      "cell_type": "code",
      "source": [
        "df.nunique()"
      ],
      "metadata": {
        "colab": {
          "base_uri": "https://localhost:8080/"
        },
        "id": "H9QQoRqITbGB",
        "outputId": "4f925aa8-fda1-4c7f-908e-03d855e26ff8"
      },
      "execution_count": null,
      "outputs": [
        {
          "output_type": "execute_result",
          "data": {
            "text/plain": [
              "Item_Identifier              1559\n",
              "Item_Weight                   415\n",
              "Item_Fat_Content                5\n",
              "Item_Visibility              7880\n",
              "Item_Type                      16\n",
              "Item_MRP                     5938\n",
              "Outlet_Identifier              10\n",
              "Outlet_Establishment_Year       9\n",
              "Outlet_Size                     3\n",
              "Outlet_Location_Type            3\n",
              "Outlet_Type                     4\n",
              "Item_Outlet_Sales            3493\n",
              "dtype: int64"
            ]
          },
          "metadata": {},
          "execution_count": 12
        }
      ]
    },
    {
      "cell_type": "code",
      "source": [
        "# Generar matriz de correlaciones\n",
        "corr_matrix = df.corr()\n",
        "# Crear mapa de calor\n",
        "sns.heatmap(corr_matrix, cmap='coolwarm', annot=True)\n",
        "# Mostrar mapa de calor\n",
        "plt.show()\n",
        "# Obtener las características que tienen una correlación de magnitud 0,5 o mayor con el precio\n",
        "corr_threshold = 0.5\n",
        "price_corr_features = corr_matrix[(corr_matrix['Item_Outlet_Sales'] >= corr_threshold) | (corr_matrix['Item_Outlet_Sales'] <= -corr_threshold)].index.tolist()\n",
        "# Imprimir las características encontradas\n",
        "print(\"Características con una correlación de magnitud {} o mayor con el precio: {}\".format(corr_threshold, price_corr_features))"
      ],
      "metadata": {
        "colab": {
          "base_uri": "https://localhost:8080/",
          "height": 679
        },
        "id": "Yiy_6rcaSU5z",
        "outputId": "7383bd3f-dbca-4c21-a75e-7bedcacdcfa6"
      },
      "execution_count": null,
      "outputs": [
        {
          "output_type": "stream",
          "name": "stderr",
          "text": [
            "<ipython-input-13-61162683eb85>:2: FutureWarning: The default value of numeric_only in DataFrame.corr is deprecated. In a future version, it will default to False. Select only valid columns or specify the value of numeric_only to silence this warning.\n",
            "  corr_matrix = df.corr()\n"
          ]
        },
        {
          "output_type": "display_data",
          "data": {
            "text/plain": [
              "<Figure size 640x480 with 2 Axes>"
            ],
            "image/png": "[encoded data removed]"
          },
          "metadata": {}
        },
        {
          "output_type": "stream",
          "name": "stdout",
          "text": [
            "Características con una correlación de magnitud 0.5 o mayor con el precio: ['Item_MRP', 'Item_Outlet_Sales']\n"
          ]
        }
      ]
    },
    {
      "cell_type": "code",
      "source": [
        "df['Outlet_Establishment_Year'] = df['Outlet_Establishment_Year'].astype(str)"
      ],
      "metadata": {
        "id": "E7fAXSwHlOAr"
      },
      "execution_count": null,
      "outputs": []
    },
    {
      "cell_type": "code",
      "source": [
        "df = df.drop(columns=['Item_Identifier'])"
      ],
      "metadata": {
        "id": "yzS__vpRlSg5"
      },
      "execution_count": null,
      "outputs": []
    },
    {
      "cell_type": "code",
      "source": [
        "df['Item_Fat_Content'].value_counts()"
      ],
      "metadata": {
        "colab": {
          "base_uri": "https://localhost:8080/"
        },
        "id": "3DmasiZPIYO7",
        "outputId": "9a7dea3f-0f27-4cb6-ef7e-3db99bb8ce69"
      },
      "execution_count": null,
      "outputs": [
        {
          "output_type": "execute_result",
          "data": {
            "text/plain": [
              "Low Fat    5089\n",
              "Regular    2889\n",
              "LF          316\n",
              "reg         117\n",
              "low fat     112\n",
              "Name: Item_Fat_Content, dtype: int64"
            ]
          },
          "metadata": {},
          "execution_count": 16
        }
      ]
    },
    {
      "cell_type": "code",
      "source": [
        "df['Item_Fat_Content'] = df['Item_Fat_Content'].replace('LF', 'Low Fat')\n",
        "df['Item_Fat_Content'] = df['Item_Fat_Content'].replace('low fat', 'Low Fat')\n",
        "df['Item_Fat_Content'] = df['Item_Fat_Content'].replace('reg', 'Regular')"
      ],
      "metadata": {
        "id": "h4SLvzL6IQDn"
      },
      "execution_count": null,
      "outputs": []
    },
    {
      "cell_type": "code",
      "source": [
        "X = df.drop(columns=['Item_Outlet_Sales'])\n",
        "y = df['Item_Outlet_Sales']\n",
        "X_train, X_test, y_train, y_test = train_test_split(X, y, random_state = 42)\n",
        "# Selectors\n",
        "cat_selector = make_column_selector(dtype_include='object')\n",
        "num_selector = make_column_selector(dtype_include='number')\n",
        "# Imputers\n",
        "freq_imputer = SimpleImputer(strategy='most_frequent')\n",
        "mean_imputer = SimpleImputer(strategy='mean')\n",
        "# One-hot encoder\n",
        "ohe = OneHotEncoder(handle_unknown='ignore', sparse=False)\n",
        "# Scaler\n",
        "scaler = StandardScaler()\n",
        "# Numeric pipeline\n",
        "numeric_pipe = make_pipeline(mean_imputer, scaler)\n",
        "numeric_pipe\n",
        "# Categorical pipeline\n",
        "categorical_pipe = make_pipeline(freq_imputer, ohe)\n",
        "categorical_pipe\n",
        "# Tuples para Column Transformer\n",
        "number_tuple = (numeric_pipe, num_selector)\n",
        "category_tuple = (categorical_pipe, cat_selector)\n",
        "# ColumnTransformer\n",
        "preprocessor = make_column_transformer(number_tuple, category_tuple)\n",
        "preprocessor\n",
        "# fit on train\n",
        "preprocessor.fit(X_train)\n",
        "# transform train and test\n",
        "X_train_processed = preprocessor.transform(X_train)\n",
        "X_test_processed = preprocessor.transform(X_test)\n",
        "X_train_df = pd.DataFrame(X_train_processed)\n",
        "X_test_df = pd.DataFrame(X_test_processed)\n",
        "X_train_df.columns=preprocessor.get_feature_names_out()\n",
        "X_test_df.columns=preprocessor.get_feature_names_out()\n",
        "X_train_df.head()"
      ],
      "metadata": {
        "id": "89fHj1Lb3pd3",
        "colab": {
          "base_uri": "https://localhost:8080/",
          "height": 369
        },
        "outputId": "be8a74ad-63c7-434a-9a99-bcb0fbed95a9"
      },
      "execution_count": null,
      "outputs": [
        {
          "output_type": "stream",
          "name": "stderr",
          "text": [
            "/usr/local/lib/python3.9/dist-packages/sklearn/preprocessing/_encoders.py:868: FutureWarning: `sparse` was renamed to `sparse_output` in version 1.2 and will be removed in 1.4. `sparse_output` is ignored unless you leave `sparse` to its default value.\n",
            "  warnings.warn(\n"
          ]
        },
        {
          "output_type": "execute_result",
          "data": {
            "text/plain": [
              "   pipeline-1__Item_Weight  pipeline-1__Item_Visibility  pipeline-1__Item_MRP  \\\n",
              "0                 0.817249                    -0.712775              1.828109   \n",
              "1                 0.556340                    -1.291052              0.603369   \n",
              "2                -0.131512                     1.813319              0.244541   \n",
              "3                -1.169219                    -1.004931             -0.952591   \n",
              "4                 1.528819                    -0.965484             -0.336460   \n",
              "\n",
              "   pipeline-2__Item_Fat_Content_Low Fat  pipeline-2__Item_Fat_Content_Regular  \\\n",
              "0                                   1.0                                   0.0   \n",
              "1                                   0.0                                   1.0   \n",
              "2                                   0.0                                   1.0   \n",
              "3                                   1.0                                   0.0   \n",
              "4                                   1.0                                   0.0   \n",
              "\n",
              "   pipeline-2__Item_Type_Baking Goods  pipeline-2__Item_Type_Breads  \\\n",
              "0                                 0.0                           0.0   \n",
              "1                                 0.0                           0.0   \n",
              "2                                 0.0                           0.0   \n",
              "3                                 1.0                           0.0   \n",
              "4                                 0.0                           0.0   \n",
              "\n",
              "   pipeline-2__Item_Type_Breakfast  pipeline-2__Item_Type_Canned  \\\n",
              "0                              0.0                           0.0   \n",
              "1                              0.0                           0.0   \n",
              "2                              0.0                           0.0   \n",
              "3                              0.0                           0.0   \n",
              "4                              0.0                           0.0   \n",
              "\n",
              "   pipeline-2__Item_Type_Dairy  ...  pipeline-2__Outlet_Size_High  \\\n",
              "0                          0.0  ...                           0.0   \n",
              "1                          0.0  ...                           0.0   \n",
              "2                          0.0  ...                           0.0   \n",
              "3                          0.0  ...                           0.0   \n",
              "4                          0.0  ...                           0.0   \n",
              "\n",
              "   pipeline-2__Outlet_Size_Medium  pipeline-2__Outlet_Size_Small  \\\n",
              "0                             1.0                            0.0   \n",
              "1                             1.0                            0.0   \n",
              "2                             1.0                            0.0   \n",
              "3                             0.0                            1.0   \n",
              "4                             1.0                            0.0   \n",
              "\n",
              "   pipeline-2__Outlet_Location_Type_Tier 1  \\\n",
              "0                                      0.0   \n",
              "1                                      0.0   \n",
              "2                                      1.0   \n",
              "3                                      0.0   \n",
              "4                                      0.0   \n",
              "\n",
              "   pipeline-2__Outlet_Location_Type_Tier 2  \\\n",
              "0                                      0.0   \n",
              "1                                      0.0   \n",
              "2                                      0.0   \n",
              "3                                      1.0   \n",
              "4                                      1.0   \n",
              "\n",
              "   pipeline-2__Outlet_Location_Type_Tier 3  \\\n",
              "0                                      1.0   \n",
              "1                                      1.0   \n",
              "2                                      0.0   \n",
              "3                                      0.0   \n",
              "4                                      0.0   \n",
              "\n",
              "   pipeline-2__Outlet_Type_Grocery Store  \\\n",
              "0                                    0.0   \n",
              "1                                    0.0   \n",
              "2                                    0.0   \n",
              "3                                    0.0   \n",
              "4                                    0.0   \n",
              "\n",
              "   pipeline-2__Outlet_Type_Supermarket Type1  \\\n",
              "0                                        0.0   \n",
              "1                                        0.0   \n",
              "2                                        1.0   \n",
              "3                                        1.0   \n",
              "4                                        1.0   \n",
              "\n",
              "   pipeline-2__Outlet_Type_Supermarket Type2  \\\n",
              "0                                        1.0   \n",
              "1                                        1.0   \n",
              "2                                        0.0   \n",
              "3                                        0.0   \n",
              "4                                        0.0   \n",
              "\n",
              "   pipeline-2__Outlet_Type_Supermarket Type3  \n",
              "0                                        0.0  \n",
              "1                                        0.0  \n",
              "2                                        0.0  \n",
              "3                                        0.0  \n",
              "4                                        0.0  \n",
              "\n",
              "[5 rows x 50 columns]"
            ],
            "text/html": [
              "\n",
              "  <div id=\"df-39a0eb75-7e92-4dda-a364-4562addcad77\">\n",
              "    <div class=\"colab-df-container\">\n",
              "      <div>\n",
              "<style scoped>\n",
              "    .dataframe tbody tr th:only-of-type {\n",
              "        vertical-align: middle;\n",
              "    }\n",
              "\n",
              "    .dataframe tbody tr th {\n",
              "        vertical-align: top;\n",
              "    }\n",
              "\n",
              "    .dataframe thead th {\n",
              "        text-align: right;\n",
              "    }\n",
              "</style>\n",
              "<table border=\"1\" class=\"dataframe\">\n",
              "  <thead>\n",
              "    <tr style=\"text-align: right;\">\n",
              "      <th></th>\n",
              "      <th>pipeline-1__Item_Weight</th>\n",
              "      <th>pipeline-1__Item_Visibility</th>\n",
              "      <th>pipeline-1__Item_MRP</th>\n",
              "      <th>pipeline-2__Item_Fat_Content_Low Fat</th>\n",
              "      <th>pipeline-2__Item_Fat_Content_Regular</th>\n",
              "      <th>pipeline-2__Item_Type_Baking Goods</th>\n",
              "      <th>pipeline-2__Item_Type_Breads</th>\n",
              "      <th>pipeline-2__Item_Type_Breakfast</th>\n",
              "      <th>pipeline-2__Item_Type_Canned</th>\n",
              "      <th>pipeline-2__Item_Type_Dairy</th>\n",
              "      <th>...</th>\n",
              "      <th>pipeline-2__Outlet_Size_High</th>\n",
              "      <th>pipeline-2__Outlet_Size_Medium</th>\n",
              "      <th>pipeline-2__Outlet_Size_Small</th>\n",
              "      <th>pipeline-2__Outlet_Location_Type_Tier 1</th>\n",
              "      <th>pipeline-2__Outlet_Location_Type_Tier 2</th>\n",
              "      <th>pipeline-2__Outlet_Location_Type_Tier 3</th>\n",
              "      <th>pipeline-2__Outlet_Type_Grocery Store</th>\n",
              "      <th>pipeline-2__Outlet_Type_Supermarket Type1</th>\n",
              "      <th>pipeline-2__Outlet_Type_Supermarket Type2</th>\n",
              "      <th>pipeline-2__Outlet_Type_Supermarket Type3</th>\n",
              "    </tr>\n",
              "  </thead>\n",
              "  <tbody>\n",
              "    <tr>\n",
              "      <th>0</th>\n",
              "      <td>0.817249</td>\n",
              "      <td>-0.712775</td>\n",
              "      <td>1.828109</td>\n",
              "      <td>1.0</td>\n",
              "      <td>0.0</td>\n",
              "      <td>0.0</td>\n",
              "      <td>0.0</td>\n",
              "      <td>0.0</td>\n",
              "      <td>0.0</td>\n",
              "      <td>0.0</td>\n",
              "      <td>...</td>\n",
              "      <td>0.0</td>\n",
              "      <td>1.0</td>\n",
              "      <td>0.0</td>\n",
              "      <td>0.0</td>\n",
              "      <td>0.0</td>\n",
              "      <td>1.0</td>\n",
              "      <td>0.0</td>\n",
              "      <td>0.0</td>\n",
              "      <td>1.0</td>\n",
              "      <td>0.0</td>\n",
              "    </tr>\n",
              "    <tr>\n",
              "      <th>1</th>\n",
              "      <td>0.556340</td>\n",
              "      <td>-1.291052</td>\n",
              "      <td>0.603369</td>\n",
              "      <td>0.0</td>\n",
              "      <td>1.0</td>\n",
              "      <td>0.0</td>\n",
              "      <td>0.0</td>\n",
              "      <td>0.0</td>\n",
              "      <td>0.0</td>\n",
              "      <td>0.0</td>\n",
              "      <td>...</td>\n",
              "      <td>0.0</td>\n",
              "      <td>1.0</td>\n",
              "      <td>0.0</td>\n",
              "      <td>0.0</td>\n",
              "      <td>0.0</td>\n",
              "      <td>1.0</td>\n",
              "      <td>0.0</td>\n",
              "      <td>0.0</td>\n",
              "      <td>1.0</td>\n",
              "      <td>0.0</td>\n",
              "    </tr>\n",
              "    <tr>\n",
              "      <th>2</th>\n",
              "      <td>-0.131512</td>\n",
              "      <td>1.813319</td>\n",
              "      <td>0.244541</td>\n",
              "      <td>0.0</td>\n",
              "      <td>1.0</td>\n",
              "      <td>0.0</td>\n",
              "      <td>0.0</td>\n",
              "      <td>0.0</td>\n",
              "      <td>0.0</td>\n",
              "      <td>0.0</td>\n",
              "      <td>...</td>\n",
              "      <td>0.0</td>\n",
              "      <td>1.0</td>\n",
              "      <td>0.0</td>\n",
              "      <td>1.0</td>\n",
              "      <td>0.0</td>\n",
              "      <td>0.0</td>\n",
              "      <td>0.0</td>\n",
              "      <td>1.0</td>\n",
              "      <td>0.0</td>\n",
              "      <td>0.0</td>\n",
              "    </tr>\n",
              "    <tr>\n",
              "      <th>3</th>\n",
              "      <td>-1.169219</td>\n",
              "      <td>-1.004931</td>\n",
              "      <td>-0.952591</td>\n",
              "      <td>1.0</td>\n",
              "      <td>0.0</td>\n",
              "      <td>1.0</td>\n",
              "      <td>0.0</td>\n",
              "      <td>0.0</td>\n",
              "      <td>0.0</td>\n",
              "      <td>0.0</td>\n",
              "      <td>...</td>\n",
              "      <td>0.0</td>\n",
              "      <td>0.0</td>\n",
              "      <td>1.0</td>\n",
              "      <td>0.0</td>\n",
              "      <td>1.0</td>\n",
              "      <td>0.0</td>\n",
              "      <td>0.0</td>\n",
              "      <td>1.0</td>\n",
              "      <td>0.0</td>\n",
              "      <td>0.0</td>\n",
              "    </tr>\n",
              "    <tr>\n",
              "      <th>4</th>\n",
              "      <td>1.528819</td>\n",
              "      <td>-0.965484</td>\n",
              "      <td>-0.336460</td>\n",
              "      <td>1.0</td>\n",
              "      <td>0.0</td>\n",
              "      <td>0.0</td>\n",
              "      <td>0.0</td>\n",
              "      <td>0.0</td>\n",
              "      <td>0.0</td>\n",
              "      <td>0.0</td>\n",
              "      <td>...</td>\n",
              "      <td>0.0</td>\n",
              "      <td>1.0</td>\n",
              "      <td>0.0</td>\n",
              "      <td>0.0</td>\n",
              "      <td>1.0</td>\n",
              "      <td>0.0</td>\n",
              "      <td>0.0</td>\n",
              "      <td>1.0</td>\n",
              "      <td>0.0</td>\n",
              "      <td>0.0</td>\n",
              "    </tr>\n",
              "  </tbody>\n",
              "</table>\n",
              "<p>5 rows × 50 columns</p>\n",
              "</div>\n",
              "      <button class=\"colab-df-convert\" onclick=\"convertToInteractive('df-39a0eb75-7e92-4dda-a364-4562addcad77')\"\n",
              "              title=\"Convert this dataframe to an interactive table.\"\n",
              "              style=\"display:none;\">\n",
              "        \n",
              "  <svg xmlns=\"http://www.w3.org/2000/svg\" height=\"24px\"viewBox=\"0 0 24 24\"\n",
              "       width=\"24px\">\n",
              "    <path d=\"M0 0h24v24H0V0z\" fill=\"none\"/>\n",
              "    <path d=\"M18.56 5.44l.94 2.06.94-2.06 2.06-.94-2.06-.94-.94-2.06-.94 2.06-2.06.94zm-11 1L8.5 8.5l.94-2.06 2.06-.94-2.06-.94L8.5 2.5l-.94 2.06-2.06.94zm10 10l.94 2.06.94-2.06 2.06-.94-2.06-.94-.94-2.06-.94 2.06-2.06.94z\"/><path d=\"M17.41 7.96l-1.37-1.37c-.4-.4-.92-.59-1.43-.59-.52 0-1.04.2-1.43.59L10.3 9.45l-7.72 7.72c-.78.78-.78 2.05 0 2.83L4 21.41c.39.39.9.59 1.41.59.51 0 1.02-.2 1.41-.59l7.78-7.78 2.81-2.81c.8-.78.8-2.07 0-2.86zM5.41 20L4 18.59l7.72-7.72 1.47 1.35L5.41 20z\"/>\n",
              "  </svg>\n",
              "      </button>\n",
              "      \n",
              "  <style>\n",
              "    .colab-df-container {\n",
              "      display:flex;\n",
              "      flex-wrap:wrap;\n",
              "      gap: 12px;\n",
              "    }\n",
              "\n",
              "    .colab-df-convert {\n",
              "      background-color: #E8F0FE;\n",
              "      border: none;\n",
              "      border-radius: 50%;\n",
              "      cursor: pointer;\n",
              "      display: none;\n",
              "      fill: #1967D2;\n",
              "      height: 32px;\n",
              "      padding: 0 0 0 0;\n",
              "      width: 32px;\n",
              "    }\n",
              "\n",
              "    .colab-df-convert:hover {\n",
              "      background-color: #E2EBFA;\n",
              "      box-shadow: 0px 1px 2px rgba(60, 64, 67, 0.3), 0px 1px 3px 1px rgba(60, 64, 67, 0.15);\n",
              "      fill: #174EA6;\n",
              "    }\n",
              "\n",
              "    [theme=dark] .colab-df-convert {\n",
              "      background-color: #3B4455;\n",
              "      fill: #D2E3FC;\n",
              "    }\n",
              "\n",
              "    [theme=dark] .colab-df-convert:hover {\n",
              "      background-color: #434B5C;\n",
              "      box-shadow: 0px 1px 3px 1px rgba(0, 0, 0, 0.15);\n",
              "      filter: drop-shadow(0px 1px 2px rgba(0, 0, 0, 0.3));\n",
              "      fill: #FFFFFF;\n",
              "    }\n",
              "  </style>\n",
              "\n",
              "      <script>\n",
              "        const buttonEl =\n",
              "          document.querySelector('#df-39a0eb75-7e92-4dda-a364-4562addcad77 button.colab-df-convert');\n",
              "        buttonEl.style.display =\n",
              "          google.colab.kernel.accessAllowed ? 'block' : 'none';\n",
              "\n",
              "        async function convertToInteractive(key) {\n",
              "          const element = document.querySelector('#df-39a0eb75-7e92-4dda-a364-4562addcad77');\n",
              "          const dataTable =\n",
              "            await google.colab.kernel.invokeFunction('convertToInteractive',\n",
              "                                                     [key], {});\n",
              "          if (!dataTable) return;\n",
              "\n",
              "          const docLinkHtml = 'Like what you see? Visit the ' +\n",
              "            '<a target=\"_blank\" href=https://colab.research.google.com/notebooks/data_table.ipynb>data table notebook</a>'\n",
              "            + ' to learn more about interactive tables.';\n",
              "          element.innerHTML = '';\n",
              "          dataTable['output_type'] = 'display_data';\n",
              "          await google.colab.output.renderOutput(dataTable, element);\n",
              "          const docLink = document.createElement('div');\n",
              "          docLink.innerHTML = docLinkHtml;\n",
              "          element.appendChild(docLink);\n",
              "        }\n",
              "      </script>\n",
              "    </div>\n",
              "  </div>\n",
              "  "
            ]
          },
          "metadata": {},
          "execution_count": 18
        }
      ]
    },
    {
      "cell_type": "code",
      "source": [
        "#inspect the data\n",
        "print(X_train_df.info(), '\\n')\n",
        "print(X_train_df.isna().sum())"
      ],
      "metadata": {
        "colab": {
          "base_uri": "https://localhost:8080/"
        },
        "id": "HeL4I2a6I6hq",
        "outputId": "45305342-5dd7-4d2e-e4e9-a58fa30f3fc6"
      },
      "execution_count": null,
      "outputs": [
        {
          "output_type": "stream",
          "name": "stdout",
          "text": [
            "<class 'pandas.core.frame.DataFrame'>\n",
            "RangeIndex: 6392 entries, 0 to 6391\n",
            "Data columns (total 50 columns):\n",
            " #   Column                                       Non-Null Count  Dtype  \n",
            "---  ------                                       --------------  -----  \n",
            " 0   pipeline-1__Item_Weight                      6392 non-null   float64\n",
            " 1   pipeline-1__Item_Visibility                  6392 non-null   float64\n",
            " 2   pipeline-1__Item_MRP                         6392 non-null   float64\n",
            " 3   pipeline-2__Item_Fat_Content_Low Fat         6392 non-null   float64\n",
            " 4   pipeline-2__Item_Fat_Content_Regular         6392 non-null   float64\n",
            " 5   pipeline-2__Item_Type_Baking Goods           6392 non-null   float64\n",
            " 6   pipeline-2__Item_Type_Breads                 6392 non-null   float64\n",
            " 7   pipeline-2__Item_Type_Breakfast              6392 non-null   float64\n",
            " 8   pipeline-2__Item_Type_Canned                 6392 non-null   float64\n",
            " 9   pipeline-2__Item_Type_Dairy                  6392 non-null   float64\n",
            " 10  pipeline-2__Item_Type_Frozen Foods           6392 non-null   float64\n",
            " 11  pipeline-2__Item_Type_Fruits and Vegetables  6392 non-null   float64\n",
            " 12  pipeline-2__Item_Type_Hard Drinks            6392 non-null   float64\n",
            " 13  pipeline-2__Item_Type_Health and Hygiene     6392 non-null   float64\n",
            " 14  pipeline-2__Item_Type_Household              6392 non-null   float64\n",
            " 15  pipeline-2__Item_Type_Meat                   6392 non-null   float64\n",
            " 16  pipeline-2__Item_Type_Others                 6392 non-null   float64\n",
            " 17  pipeline-2__Item_Type_Seafood                6392 non-null   float64\n",
            " 18  pipeline-2__Item_Type_Snack Foods            6392 non-null   float64\n",
            " 19  pipeline-2__Item_Type_Soft Drinks            6392 non-null   float64\n",
            " 20  pipeline-2__Item_Type_Starchy Foods          6392 non-null   float64\n",
            " 21  pipeline-2__Outlet_Identifier_OUT010         6392 non-null   float64\n",
            " 22  pipeline-2__Outlet_Identifier_OUT013         6392 non-null   float64\n",
            " 23  pipeline-2__Outlet_Identifier_OUT017         6392 non-null   float64\n",
            " 24  pipeline-2__Outlet_Identifier_OUT018         6392 non-null   float64\n",
            " 25  pipeline-2__Outlet_Identifier_OUT019         6392 non-null   float64\n",
            " 26  pipeline-2__Outlet_Identifier_OUT027         6392 non-null   float64\n",
            " 27  pipeline-2__Outlet_Identifier_OUT035         6392 non-null   float64\n",
            " 28  pipeline-2__Outlet_Identifier_OUT045         6392 non-null   float64\n",
            " 29  pipeline-2__Outlet_Identifier_OUT046         6392 non-null   float64\n",
            " 30  pipeline-2__Outlet_Identifier_OUT049         6392 non-null   float64\n",
            " 31  pipeline-2__Outlet_Establishment_Year_1985   6392 non-null   float64\n",
            " 32  pipeline-2__Outlet_Establishment_Year_1987   6392 non-null   float64\n",
            " 33  pipeline-2__Outlet_Establishment_Year_1997   6392 non-null   float64\n",
            " 34  pipeline-2__Outlet_Establishment_Year_1998   6392 non-null   float64\n",
            " 35  pipeline-2__Outlet_Establishment_Year_1999   6392 non-null   float64\n",
            " 36  pipeline-2__Outlet_Establishment_Year_2002   6392 non-null   float64\n",
            " 37  pipeline-2__Outlet_Establishment_Year_2004   6392 non-null   float64\n",
            " 38  pipeline-2__Outlet_Establishment_Year_2007   6392 non-null   float64\n",
            " 39  pipeline-2__Outlet_Establishment_Year_2009   6392 non-null   float64\n",
            " 40  pipeline-2__Outlet_Size_High                 6392 non-null   float64\n",
            " 41  pipeline-2__Outlet_Size_Medium               6392 non-null   float64\n",
            " 42  pipeline-2__Outlet_Size_Small                6392 non-null   float64\n",
            " 43  pipeline-2__Outlet_Location_Type_Tier 1      6392 non-null   float64\n",
            " 44  pipeline-2__Outlet_Location_Type_Tier 2      6392 non-null   float64\n",
            " 45  pipeline-2__Outlet_Location_Type_Tier 3      6392 non-null   float64\n",
            " 46  pipeline-2__Outlet_Type_Grocery Store        6392 non-null   float64\n",
            " 47  pipeline-2__Outlet_Type_Supermarket Type1    6392 non-null   float64\n",
            " 48  pipeline-2__Outlet_Type_Supermarket Type2    6392 non-null   float64\n",
            " 49  pipeline-2__Outlet_Type_Supermarket Type3    6392 non-null   float64\n",
            "dtypes: float64(50)\n",
            "memory usage: 2.4 MB\n",
            "None \n",
            "\n",
            "pipeline-1__Item_Weight                        0\n",
            "pipeline-1__Item_Visibility                    0\n",
            "pipeline-1__Item_MRP                           0\n",
            "pipeline-2__Item_Fat_Content_Low Fat           0\n",
            "pipeline-2__Item_Fat_Content_Regular           0\n",
            "pipeline-2__Item_Type_Baking Goods             0\n",
            "pipeline-2__Item_Type_Breads                   0\n",
            "pipeline-2__Item_Type_Breakfast                0\n",
            "pipeline-2__Item_Type_Canned                   0\n",
            "pipeline-2__Item_Type_Dairy                    0\n",
            "pipeline-2__Item_Type_Frozen Foods             0\n",
            "pipeline-2__Item_Type_Fruits and Vegetables    0\n",
            "pipeline-2__Item_Type_Hard Drinks              0\n",
            "pipeline-2__Item_Type_Health and Hygiene       0\n",
            "pipeline-2__Item_Type_Household                0\n",
            "pipeline-2__Item_Type_Meat                     0\n",
            "pipeline-2__Item_Type_Others                   0\n",
            "pipeline-2__Item_Type_Seafood                  0\n",
            "pipeline-2__Item_Type_Snack Foods              0\n",
            "pipeline-2__Item_Type_Soft Drinks              0\n",
            "pipeline-2__Item_Type_Starchy Foods            0\n",
            "pipeline-2__Outlet_Identifier_OUT010           0\n",
            "pipeline-2__Outlet_Identifier_OUT013           0\n",
            "pipeline-2__Outlet_Identifier_OUT017           0\n",
            "pipeline-2__Outlet_Identifier_OUT018           0\n",
            "pipeline-2__Outlet_Identifier_OUT019           0\n",
            "pipeline-2__Outlet_Identifier_OUT027           0\n",
            "pipeline-2__Outlet_Identifier_OUT035           0\n",
            "pipeline-2__Outlet_Identifier_OUT045           0\n",
            "pipeline-2__Outlet_Identifier_OUT046           0\n",
            "pipeline-2__Outlet_Identifier_OUT049           0\n",
            "pipeline-2__Outlet_Establishment_Year_1985     0\n",
            "pipeline-2__Outlet_Establishment_Year_1987     0\n",
            "pipeline-2__Outlet_Establishment_Year_1997     0\n",
            "pipeline-2__Outlet_Establishment_Year_1998     0\n",
            "pipeline-2__Outlet_Establishment_Year_1999     0\n",
            "pipeline-2__Outlet_Establishment_Year_2002     0\n",
            "pipeline-2__Outlet_Establishment_Year_2004     0\n",
            "pipeline-2__Outlet_Establishment_Year_2007     0\n",
            "pipeline-2__Outlet_Establishment_Year_2009     0\n",
            "pipeline-2__Outlet_Size_High                   0\n",
            "pipeline-2__Outlet_Size_Medium                 0\n",
            "pipeline-2__Outlet_Size_Small                  0\n",
            "pipeline-2__Outlet_Location_Type_Tier 1        0\n",
            "pipeline-2__Outlet_Location_Type_Tier 2        0\n",
            "pipeline-2__Outlet_Location_Type_Tier 3        0\n",
            "pipeline-2__Outlet_Type_Grocery Store          0\n",
            "pipeline-2__Outlet_Type_Supermarket Type1      0\n",
            "pipeline-2__Outlet_Type_Supermarket Type2      0\n",
            "pipeline-2__Outlet_Type_Supermarket Type3      0\n",
            "dtype: int64\n"
          ]
        }
      ]
    },
    {
      "cell_type": "markdown",
      "source": [
        "En el pré-procesamiento la columna \"Item_Identifier\" no tiene una relación significativa con la variable objetivo, decidí eliminarla por no afectar significativamente la capacidad del modelo para predecir la variable objetivo. tambien converti la columna 'Outlet_Establishment_Year' en object por que consideré los valores como categoricos, pese que son numeros, en la columna 'Item_Fat_Content' sustituí valores unicos que representan la misma categoria por un solo nombre( Low Fat, estaba escrito de 3 formas distintas)\n",
        "Identifiqué el objetivo (X) y las características (y): Asigneé la columna \"Item_Outlet_Sales\" como el objetivo y el resto de las variables relevantes como el matriz de características, Realice un train test split, Cree un pipeline de preprocesamiento para preparar el conjunto de datos para el aprendizaje automático, "
      ],
      "metadata": {
        "id": "cESwt0olComg"
      }
    },
    {
      "cell_type": "markdown",
      "source": [
        "1) La primera tarea será crear un modelo de regresión lineal para predecir las ventas.\n",
        "\n",
        "Creen un modelo de regresión lineal.\n",
        "\n",
        "Evalúen el rendimiento del modelo basándose en r^2.\n",
        "\n",
        "Evalúen el rendimiento del modelo basándose en RECM."
      ],
      "metadata": {
        "id": "BNPpoLaj3lM_"
      }
    },
    {
      "cell_type": "code",
      "source": [
        "# Make a linear regression instance\n",
        "reg = LinearRegression()\n",
        "#Entrenar el modelo en los datos de entrenamiento. Este es el paso donde el modelo “aprender” sobre la relación entre las características y el objetivo.\n",
        "reg.fit(X_train_df,y_train)\n",
        "# Obtengan las predicciones del conjunto de entrenamiento\n",
        "train_preds = reg.predict(X_train_df)\n",
        "# Obtengan las predicciones del conjunto de prueba\n",
        "test_preds = reg.predict(X_test_df)"
      ],
      "metadata": {
        "id": "XnI_cIGEFzSm"
      },
      "execution_count": null,
      "outputs": []
    },
    {
      "cell_type": "code",
      "source": [
        "#A continuación, se muestra el código para obtener los datos de R^2 después de ajustar nuestro modelo: \n",
        "train_score = reg.score(X_train_df, y_train)\n",
        "print(train_score)\n",
        "test_score = reg.score(X_test_df, y_test)\n",
        "print(test_score)"
      ],
      "metadata": {
        "colab": {
          "base_uri": "https://localhost:8080/"
        },
        "id": "l04m7zt1GDwT",
        "outputId": "262ea0dd-c800-4811-953a-210af317328a"
      },
      "execution_count": null,
      "outputs": [
        {
          "output_type": "stream",
          "name": "stdout",
          "text": [
            "0.5615547614077183\n",
            "0.5671059423458024\n"
          ]
        }
      ]
    },
    {
      "cell_type": "code",
      "source": [
        "#Raíz del error cuadrático medio (RECM): raíz cuadrada de la media de los errores al cuadrado. \n",
        "rmse_train = np.sqrt(mean_squared_error(y_train, train_preds))\n",
        "rmse_test = np.sqrt(mean_squared_error(y_test, test_preds))\n",
        "print(rmse_train)\n",
        "print(rmse_test)"
      ],
      "metadata": {
        "colab": {
          "base_uri": "https://localhost:8080/"
        },
        "id": "B-0MYhN4GtBv",
        "outputId": "b3d1c9f4-5b23-4830-ae99-970823289ffb"
      },
      "execution_count": null,
      "outputs": [
        {
          "output_type": "stream",
          "name": "stdout",
          "text": [
            "1139.1045880315098\n",
            "1092.8608663020173\n"
          ]
        }
      ]
    },
    {
      "cell_type": "markdown",
      "source": [
        "2) La segunda tarea será crear un modelo de árbol de regresión para predecir las ventas.\n",
        "\n",
        "Creen un modelo simple de árbol de regresión.\n",
        "\n",
        "Comparen el rendimiento del modelo basándose en r^2.\n",
        "\n",
        "Comparen el rendimiento del modelo basándose en RECM.  "
      ],
      "metadata": {
        "id": "zJ781-KDKw51"
      }
    },
    {
      "cell_type": "code",
      "source": [
        "dec_tree = DecisionTreeRegressor(random_state = 42)\n",
        "dec_tree.fit(X_train_df, y_train)\n",
        "train_preds_1 = dec_tree.predict(X_train_df)\n",
        "test_preds_1 = dec_tree.predict(X_test_df)\n",
        "train_score = dec_tree.score(X_train_df, y_train)\n",
        "test_score = dec_tree.score(X_test_df, y_test)\n",
        "print(train_score)\n",
        "print(test_score)"
      ],
      "metadata": {
        "colab": {
          "base_uri": "https://localhost:8080/"
        },
        "id": "U5ukR0y8K4PC",
        "outputId": "c8f3b616-8bac-4136-ace7-b895bd3a2568"
      },
      "execution_count": null,
      "outputs": [
        {
          "output_type": "stream",
          "name": "stdout",
          "text": [
            "1.0\n",
            "0.14712067408106144\n"
          ]
        }
      ]
    },
    {
      "cell_type": "code",
      "source": [
        "dec_tree.get_params()"
      ],
      "metadata": {
        "colab": {
          "base_uri": "https://localhost:8080/"
        },
        "id": "ghPvT6jEVJ8P",
        "outputId": "2e41bc2f-142d-4659-a211-40f8d031330a"
      },
      "execution_count": null,
      "outputs": [
        {
          "output_type": "execute_result",
          "data": {
            "text/plain": [
              "{'ccp_alpha': 0.0,\n",
              " 'criterion': 'squared_error',\n",
              " 'max_depth': None,\n",
              " 'max_features': None,\n",
              " 'max_leaf_nodes': None,\n",
              " 'min_impurity_decrease': 0.0,\n",
              " 'min_samples_leaf': 1,\n",
              " 'min_samples_split': 2,\n",
              " 'min_weight_fraction_leaf': 0.0,\n",
              " 'random_state': 42,\n",
              " 'splitter': 'best'}"
            ]
          },
          "metadata": {},
          "execution_count": 24
        }
      ]
    },
    {
      "cell_type": "code",
      "source": [
        "# ¿Cuál era la profundidad de nuestro árbol por defecto?\n",
        "dec_tree.get_depth()"
      ],
      "metadata": {
        "colab": {
          "base_uri": "https://localhost:8080/"
        },
        "id": "uU3Aa3VBTuo1",
        "outputId": "081bb7e7-e080-437b-bcb5-7ec2615b1234"
      },
      "execution_count": null,
      "outputs": [
        {
          "output_type": "execute_result",
          "data": {
            "text/plain": [
              "44"
            ]
          },
          "metadata": {},
          "execution_count": 25
        }
      ]
    },
    {
      "cell_type": "code",
      "source": [
        "# ¿Cuántos nodos hojas?\n",
        "dec_tree.get_n_leaves()"
      ],
      "metadata": {
        "colab": {
          "base_uri": "https://localhost:8080/"
        },
        "id": "rWekRVpHVplF",
        "outputId": "3330038c-3bb7-4187-8fce-4b88a35466eb"
      },
      "execution_count": null,
      "outputs": [
        {
          "output_type": "execute_result",
          "data": {
            "text/plain": [
              "6270"
            ]
          },
          "metadata": {},
          "execution_count": 26
        }
      ]
    },
    {
      "cell_type": "code",
      "source": [
        "# Lista de valores a probar para max_depth:\n",
        "max_depth_range = list(range(2, 44))# will try every value between 2 and 36\n",
        "# Lista para almacenar la puntuación para cada valor de max_depth:\n",
        "r2 = []\n",
        "for depth in max_depth_range:\n",
        "    dec_tree = DecisionTreeRegressor(max_depth = depth, \n",
        "                             random_state = 42)\n",
        "    dec_tree.fit(X_train_df, y_train)\n",
        "    score = dec_tree.score(X_test_df, y_test)\n",
        "    r2.append(score)\n",
        "# Visualicen qué max_depth lleva a una puntuación R2 más alta\n",
        "plt.plot(max_depth_range, r2)\n",
        "plt.grid(True)\n",
        "plt.xlabel('max_depth')\n",
        "plt.ylabel('R2');"
      ],
      "metadata": {
        "colab": {
          "base_uri": "https://localhost:8080/",
          "height": 459
        },
        "id": "POt6V3X6T8nP",
        "outputId": "451ce143-60cb-4de6-c28c-96c7ce6b026f"
      },
      "execution_count": null,
      "outputs": [
        {
          "output_type": "display_data",
          "data": {
            "text/plain": [
              "<Figure size 640x480 with 1 Axes>"
            ],
            "image/png": "[encoded data removed]"
          },
          "metadata": {}
        }
      ]
    },
    {
      "cell_type": "code",
      "source": [
        "# Ejecutemos el modelo con nuestro valor optimizado para max_depth\n",
        "dec_tree_5 = DecisionTreeRegressor(max_depth = 5, random_state = 42)\n",
        "dec_tree_5.fit(X_train_df, y_train)\n",
        "train_preds_1 = dec_tree.predict(X_train_df)\n",
        "test_preds_1 = dec_tree.predict(X_test_df)\n",
        "train_5_score = dec_tree_5.score(X_train_df, y_train)\n",
        "test_5_score = dec_tree_5.score(X_test_df, y_test)\n",
        "print(train_5_score)\n",
        "print(test_5_score)"
      ],
      "metadata": {
        "colab": {
          "base_uri": "https://localhost:8080/"
        },
        "id": "0soOMKU8Umfl",
        "outputId": "a426c66c-2b0a-4d87-db6c-73d9a76cfe96"
      },
      "execution_count": null,
      "outputs": [
        {
          "output_type": "stream",
          "name": "stdout",
          "text": [
            "0.6039397477322958\n",
            "0.5947099753159973\n"
          ]
        }
      ]
    },
    {
      "cell_type": "code",
      "source": [
        "#A continuación, se muestra el código para obtener los datos de R^2 después de ajustar nuestro modelo: \n",
        "train_5_score = reg.score(X_train_df, y_train)\n",
        "print(train_5_score)\n",
        "test_5_score = reg.score(X_test_df, y_test)\n",
        "print(test_5_score)"
      ],
      "metadata": {
        "colab": {
          "base_uri": "https://localhost:8080/"
        },
        "id": "qqfcLywMWpw7",
        "outputId": "af088b40-7e3b-43bd-ffe1-5788ba644069"
      },
      "execution_count": null,
      "outputs": [
        {
          "output_type": "stream",
          "name": "stdout",
          "text": [
            "0.5615547614077183\n",
            "0.5671059423458024\n"
          ]
        }
      ]
    },
    {
      "cell_type": "code",
      "source": [
        "#Raíz del error cuadrático medio (RECM): raíz cuadrada de la media de los errores al cuadrado. \n",
        "rmse_train = np.sqrt(mean_squared_error(y_train, train_preds_1))\n",
        "rmse_test = np.sqrt(mean_squared_error(y_test, test_preds_1))\n",
        "print(rmse_train)\n",
        "print(rmse_test)"
      ],
      "metadata": {
        "colab": {
          "base_uri": "https://localhost:8080/"
        },
        "id": "Md3ovxRaW2gQ",
        "outputId": "fd8f6b62-fef8-487d-e9ac-bdba5be32448"
      },
      "execution_count": null,
      "outputs": [
        {
          "output_type": "stream",
          "name": "stdout",
          "text": [
            "0.247320263329386\n",
            "1543.3828318759754\n"
          ]
        }
      ]
    },
    {
      "cell_type": "code",
      "source": [
        "#Bagged Trees en Python\n",
        "bagreg = BaggingRegressor(random_state = 42)\n",
        "# Miren a los hiperparámetros\n",
        "bagreg.get_params()\n",
        "#El modelo está aprendiendo la relación entre X e y. ¡Esto puede tomar un tiempo para ejecutar!\n",
        "bagreg.fit(X_train_df, y_train)\n",
        "#Paso 4: predecir los valores para y (recuerden que este paso permite \n",
        "#ver las predicciones reales, pero no es necesario para evaluar o afinar el modelo).\n",
        "bagreg.predict(X_test_df)\n",
        "#Paso 5: evaluar el rendimiento del modelo\n",
        "bagreg_train_score = bagreg.score(X_train_df, y_train)\n",
        "bagreg_test_score = bagreg.score(X_test_df, y_test)\n",
        "print(bagreg_train_score)\n",
        "print(bagreg_test_score)"
      ],
      "metadata": {
        "colab": {
          "base_uri": "https://localhost:8080/"
        },
        "id": "Sem1mj07BrE7",
        "outputId": "9d1da158-40f7-4902-f7e1-5532dd449e06"
      },
      "execution_count": null,
      "outputs": [
        {
          "output_type": "stream",
          "name": "stdout",
          "text": [
            "0.9194301494633378\n",
            "0.5368263337309715\n"
          ]
        }
      ]
    },
    {
      "cell_type": "code",
      "source": [
        "# Lista de valores a probar para max_depth:\n",
        "max_estimators_range = list(range(2, 200))# will try every value between 2 and 200\n",
        "# Lista para almacenar la puntuación para cada valor de max_depth:\n",
        "r2 = []\n",
        "for estimator in max_estimators_range:\n",
        "    bagging_regresor = BaggingRegressor(n_estimators = estimator, \n",
        "                             random_state = 42)\n",
        "    bagging_regresor.fit(X_train_df, y_train)\n",
        "    score = bagging_regresor.score(X_test_df, y_test)\n",
        "    r2.append(score)\n",
        "# Visualicen qué max_depth lleva a una puntuación R2 más alta\n",
        "plt.plot(max_estimators_range, r2)\n",
        "plt.xlabel('Baggin')\n",
        "plt.xticks(np.arange(0,200,10))\n",
        "plt.grid(True)\n",
        "plt.ylabel('R2');"
      ],
      "metadata": {
        "colab": {
          "base_uri": "https://localhost:8080/",
          "height": 459
        },
        "id": "S0yRnUTqB7Ak",
        "outputId": "842f764f-94cf-488a-e06d-ca23525703ef"
      },
      "execution_count": null,
      "outputs": [
        {
          "output_type": "display_data",
          "data": {
            "text/plain": [
              "<Figure size 640x480 with 1 Axes>"
            ],
            "image/png": "[encoded data removed]"
          },
          "metadata": {}
        }
      ]
    },
    {
      "cell_type": "code",
      "source": [
        "for i in range(len(r2)):\n",
        "  if (r2[i]==max(r2)):\n",
        "      break\n",
        "print(\"Estimadores\", max_estimators_range[i])"
      ],
      "metadata": {
        "colab": {
          "base_uri": "https://localhost:8080/"
        },
        "id": "IXhyNY57JrIy",
        "outputId": "952e54c1-12ce-4ce2-8b8c-76459ba652ae"
      },
      "execution_count": null,
      "outputs": [
        {
          "output_type": "stream",
          "name": "stdout",
          "text": [
            "Estimadores 139\n"
          ]
        }
      ]
    },
    {
      "cell_type": "code",
      "source": [
        "# Ejecutemos el modelo con nuestro valor optimizado para estimators\n",
        "#Bagged Trees en Python\n",
        "bagreg_139 = BaggingRegressor(n_estimators=139, random_state = 42)\n",
        "# Miren a los hiperparámetros\n",
        "bagreg_139.get_params()\n",
        "#El modelo está aprendiendo la relación entre X e y. ¡Esto puede tomar un tiempo para ejecutar!\n",
        "bagreg_139.fit(X_train_df, y_train)\n",
        "#Paso 4: predecir los valores para y (recuerden que este paso permite \n",
        "#ver las predicciones reales, pero no es necesario para evaluar o afinar el modelo).\n",
        "bagreg_139.predict(X_train_df)\n",
        "bagreg_139.predict(X_test_df)\n",
        "#Paso 5: evaluar el rendimiento del modelo\n",
        "bagreg_139_train_score = bagreg_139.score(X_train_df, y_train)\n",
        "bagreg_139_test_score = bagreg_139.score(X_test_df, y_test)\n",
        "print(bagreg_139_train_score)\n",
        "print(bagreg_139_test_score)"
      ],
      "metadata": {
        "colab": {
          "base_uri": "https://localhost:8080/"
        },
        "id": "S2qG_CDdXgif",
        "outputId": "82b99dfb-55ce-49ce-855a-a35e5ac23801"
      },
      "execution_count": null,
      "outputs": [
        {
          "output_type": "stream",
          "name": "stdout",
          "text": [
            "0.9389079825962254\n",
            "0.5616113033712411\n"
          ]
        }
      ]
    },
    {
      "cell_type": "code",
      "source": [
        "#A continuación, se muestra el código para obtener los datos de R^2 después de ajustar nuestro modelo: \n",
        "bagreg_139_train_score = reg.score(X_train_df, y_train)\n",
        "print(bagreg_139_train_score)\n",
        "bagreg_139_test_score = reg.score(X_test_df, y_test)\n",
        "print(bagreg_139_test_score)"
      ],
      "metadata": {
        "colab": {
          "base_uri": "https://localhost:8080/"
        },
        "id": "rbE0lY3BYGYF",
        "outputId": "5805c72a-78c1-4b71-9a03-24c839cd1ca9"
      },
      "execution_count": null,
      "outputs": [
        {
          "output_type": "stream",
          "name": "stdout",
          "text": [
            "0.5615547614077183\n",
            "0.5671059423458024\n"
          ]
        }
      ]
    },
    {
      "cell_type": "code",
      "source": [
        "#Raíz del error cuadrático medio (RECM): raíz cuadrada de la media de los errores al cuadrado. \n",
        "train_bagreg_preds = bagreg_139.predict(X_train_df)\n",
        "test_bagreg_preds = bagreg_139.predict(X_test_df)\n",
        "rmse_train = np.sqrt(mean_squared_error(y_train, train_bagreg_preds))\n",
        "rmse_test = np.sqrt(mean_squared_error(y_test, test_bagreg_preds))\n",
        "print(rmse_train)\n",
        "print(rmse_test)"
      ],
      "metadata": {
        "colab": {
          "base_uri": "https://localhost:8080/"
        },
        "id": "vXoviy2zcx1t",
        "outputId": "b9b35abd-30f0-4ff2-f460-e280648cf1c0"
      },
      "execution_count": null,
      "outputs": [
        {
          "output_type": "stream",
          "name": "stdout",
          "text": [
            "425.2047970174332\n",
            "1099.7747302197427\n"
          ]
        }
      ]
    },
    {
      "cell_type": "markdown",
      "source": [
        "3) Acaban de intentar 2 diferentes modelos en el conjunto de datos. Deben determinar qué modelo implementar.\n",
        "\n",
        "En general, ¿qué modelo recomiendan?\n",
        "Justifiquen su recomendación."
      ],
      "metadata": {
        "id": "cG3zJvZWXyt9"
      }
    },
    {
      "cell_type": "markdown",
      "source": [
        "En el caso del modelo de regresión lineal, el RECM en el conjunto de prueba es de 1139.1045880315098, mientras que en el caso del modelo de árbol de regresión el RECM es de 0.24. A partir de estos resultados, podemos concluir que el modelo de árbol de regresión es mejor que el modelo de regresión lineal, ya que tiene un RECM menor en el conjunto de prueba. "
      ],
      "metadata": {
        "id": "AOuIECS3ZOOn"
      }
    }
  ]
}